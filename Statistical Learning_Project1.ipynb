{
 "cells": [
  {
   "cell_type": "code",
   "execution_count": 1,
   "metadata": {},
   "outputs": [],
   "source": [
    "#Importing the required libraries\n",
    "import numpy as np # linear algebra\n",
    "import pandas as pd # data processing,I/O"
   ]
  },
  {
   "cell_type": "markdown",
   "metadata": {},
   "source": [
    "### 1.Read the data set and replace dashes with 0 to make sure you can perform arithmetic operations on the data."
   ]
  },
  {
   "cell_type": "code",
   "execution_count": 2,
   "metadata": {},
   "outputs": [],
   "source": [
    "#However it was seen that the first row of the dataset is empty.\n",
    "#Hence replacing the values of second row as labels(By default the header=0).\n",
    "laliga=pd.read_csv('Laliga.csv',header=1)"
   ]
  },
  {
   "cell_type": "code",
   "execution_count": 3,
   "metadata": {},
   "outputs": [
    {
     "name": "stdout",
     "output_type": "stream",
     "text": [
      "    Pos              Team  Seasons Points GamesPlayed GamesWon GamesDrawn  \\\n",
      "0     1       Real Madrid       86   4385        2762     1647        552   \n",
      "1     2         Barcelona       86   4262        2762     1581        573   \n",
      "2     3   Atletico Madrid       80   3442        2614     1241        598   \n",
      "3     4          Valencia       82   3386        2664     1187        616   \n",
      "4     5   Athletic Bilbao       86   3368        2762     1209        633   \n",
      "..  ...               ...      ...    ...         ...      ...        ...   \n",
      "56   57             Xerez        1     34          38        8         10   \n",
      "57   58            Condal        1     22          30        7          8   \n",
      "58   59   Atletico Tetuan        1     19          30        7          5   \n",
      "59   60  Cultural Leonesa        1     14          30        5          4   \n",
      "60   61            Girona        1      -           -        -          -   \n",
      "\n",
      "   GamesLost GoalsFor GoalsAgainst Champion Runner-up Third Fourth Fifth  \\\n",
      "0        563     5947         3140       33        23     8      8     3   \n",
      "1        608     5900         3114       25        25    12     12     4   \n",
      "2        775     4534         3309       10         8    16      9     7   \n",
      "3        861     4398         3469        6         6    10     11    10   \n",
      "4        920     4631         3700        8         7    10      5     8   \n",
      "..       ...      ...          ...      ...       ...   ...    ...   ...   \n",
      "56        20       38           66        -         -     -      -     -   \n",
      "57        15       37           57        -         -     -      -     -   \n",
      "58        18       51           85        -         -     -      -     -   \n",
      "59        21       34           65        -         -     -      -     -   \n",
      "60         -        -            -        -         -     -      -     -   \n",
      "\n",
      "   Sixth   T    Debut Since/LastApp  BestPosition  \n",
      "0      4  79     1929          1929             1  \n",
      "1      6  83     1929          1929             1  \n",
      "2      6  56     1929       2002-03             1  \n",
      "3      7  50  1931-32       1987-88             1  \n",
      "4     10  49     1929          1929             1  \n",
      "..   ...  ..      ...           ...           ...  \n",
      "56     -   -  2009-10       2009-10            20  \n",
      "57     -   -  1956-57       1956-57            16  \n",
      "58     -   -  1951-52       1951-52            16  \n",
      "59     -   -  1955-56       1955-56            15  \n",
      "60     -   -  2017-18       2017-18             9  \n",
      "\n",
      "[61 rows x 20 columns]\n"
     ]
    }
   ],
   "source": [
    "#Reading the imported dataset\n",
    "print (laliga)"
   ]
  },
  {
   "cell_type": "code",
   "execution_count": 4,
   "metadata": {},
   "outputs": [
    {
     "name": "stdout",
     "output_type": "stream",
     "text": [
      "<class 'pandas.core.frame.DataFrame'>\n",
      "RangeIndex: 61 entries, 0 to 60\n",
      "Data columns (total 20 columns):\n",
      "Pos              61 non-null int64\n",
      "Team             61 non-null object\n",
      "Seasons          61 non-null int64\n",
      "Points           61 non-null object\n",
      "GamesPlayed      61 non-null object\n",
      "GamesWon         61 non-null object\n",
      "GamesDrawn       61 non-null object\n",
      "GamesLost        61 non-null object\n",
      "GoalsFor         61 non-null object\n",
      "GoalsAgainst     61 non-null object\n",
      "Champion         61 non-null object\n",
      "Runner-up        61 non-null object\n",
      "Third            61 non-null object\n",
      "Fourth           61 non-null object\n",
      "Fifth            61 non-null object\n",
      "Sixth            61 non-null object\n",
      "T                61 non-null object\n",
      "Debut            61 non-null object\n",
      "Since/LastApp    61 non-null object\n",
      "BestPosition     61 non-null int64\n",
      "dtypes: int64(3), object(17)\n",
      "memory usage: 9.7+ KB\n"
     ]
    }
   ],
   "source": [
    "#Checking datatypes of all columns\n",
    "laliga.info()"
   ]
  },
  {
   "cell_type": "code",
   "execution_count": 5,
   "metadata": {},
   "outputs": [
    {
     "data": {
      "text/plain": [
       "(61, 20)"
      ]
     },
     "execution_count": 5,
     "metadata": {},
     "output_type": "execute_result"
    }
   ],
   "source": [
    "#Checking the number of rows and columns after removing first empty row and replacing the second one as index.\n",
    "laliga.shape"
   ]
  },
  {
   "cell_type": "code",
   "execution_count": 6,
   "metadata": {},
   "outputs": [
    {
     "data": {
      "text/plain": [
       "-     52\n",
       "1      3\n",
       "2      1\n",
       "25     1\n",
       "8      1\n",
       "33     1\n",
       "10     1\n",
       "6      1\n",
       "Name: Champion, dtype: int64"
      ]
     },
     "execution_count": 6,
     "metadata": {},
     "output_type": "execute_result"
    }
   ],
   "source": [
    "#Checking the value counts in the dataset,which shows - occuring multiple times in each column\n",
    "(laliga['Champion']).value_counts()"
   ]
  },
  {
   "cell_type": "code",
   "execution_count": 7,
   "metadata": {},
   "outputs": [],
   "source": [
    "# Using replace() to replace values(-) given in the dataset with 0.\n",
    "#Setting inplace at true keeps the change on the original dataset.\n",
    "laliga.replace('-',0,inplace=True)"
   ]
  },
  {
   "cell_type": "code",
   "execution_count": 8,
   "metadata": {},
   "outputs": [
    {
     "data": {
      "text/plain": [
       "0     52\n",
       "1      3\n",
       "25     1\n",
       "8      1\n",
       "2      1\n",
       "33     1\n",
       "10     1\n",
       "6      1\n",
       "Name: Champion, dtype: int64"
      ]
     },
     "execution_count": 8,
     "metadata": {},
     "output_type": "execute_result"
    }
   ],
   "source": [
    "#Checking the value counts/unique values in column Champions for verification\n",
    "laliga['Champion'].value_counts()"
   ]
  },
  {
   "cell_type": "code",
   "execution_count": 9,
   "metadata": {},
   "outputs": [],
   "source": [
    "#The occurences of '-' are now showing as '0'\n",
    "#Now applying arithmetic and statistical calculations to the columns where changes have been made:"
   ]
  },
  {
   "cell_type": "code",
   "execution_count": 10,
   "metadata": {},
   "outputs": [
    {
     "data": {
      "text/plain": [
       "0     56\n",
       "1     50\n",
       "2     18\n",
       "3     12\n",
       "4     15\n",
       "      ..\n",
       "56     0\n",
       "57     0\n",
       "58     0\n",
       "59     0\n",
       "60     0\n",
       "Length: 61, dtype: int32"
      ]
     },
     "execution_count": 10,
     "metadata": {},
     "output_type": "execute_result"
    }
   ],
   "source": [
    "# Checking Arithmatic operations.\n",
    "# Convert the datatype into int while performing the operations.\n",
    "# Addition of values in the 'Champion' and 'Runner-up' columns we get:\n",
    "laliga.iloc[:,10].astype(int) + laliga.iloc[:,11].astype(int)"
   ]
  },
  {
   "cell_type": "code",
   "execution_count": 11,
   "metadata": {},
   "outputs": [
    {
     "data": {
      "text/plain": [
       "0     10\n",
       "1      0\n",
       "2      2\n",
       "3      0\n",
       "4      1\n",
       "      ..\n",
       "56     0\n",
       "57     0\n",
       "58     0\n",
       "59     0\n",
       "60     0\n",
       "Length: 61, dtype: int32"
      ]
     },
     "execution_count": 11,
     "metadata": {},
     "output_type": "execute_result"
    }
   ],
   "source": [
    "#Substraction of the same 2 column values will give us:\n",
    "laliga.iloc[:,10].astype(int) - laliga.iloc[:,11].astype(int)"
   ]
  },
  {
   "cell_type": "code",
   "execution_count": 12,
   "metadata": {},
   "outputs": [
    {
     "data": {
      "text/plain": [
       "0     759\n",
       "1     625\n",
       "2      80\n",
       "3      36\n",
       "4      56\n",
       "     ... \n",
       "56      0\n",
       "57      0\n",
       "58      0\n",
       "59      0\n",
       "60      0\n",
       "Length: 61, dtype: int32"
      ]
     },
     "execution_count": 12,
     "metadata": {},
     "output_type": "execute_result"
    }
   ],
   "source": [
    "#Multiplication of the 2 columns yields below results:\n",
    "laliga.iloc[:,10].astype(int) * laliga.iloc[:,11].astype(int)"
   ]
  },
  {
   "cell_type": "code",
   "execution_count": 13,
   "metadata": {},
   "outputs": [
    {
     "name": "stdout",
     "output_type": "stream",
     "text": [
      "0     1.434783\n",
      "1     1.000000\n",
      "2     1.250000\n",
      "3     1.000000\n",
      "4     1.142857\n",
      "        ...   \n",
      "56    0.000000\n",
      "57    0.000000\n",
      "58    0.000000\n",
      "59    0.000000\n",
      "60    0.000000\n",
      "Length: 61, dtype: float64\n"
     ]
    }
   ],
   "source": [
    "#Division might be a bit tricky as it gives infinite or NaN values,\n",
    "#Hence we store it in a new variable called x and use numpy to replace infinte and NaN values with 0(along with inplace=true)\n",
    "x = laliga.iloc[:,10].astype(int)/laliga.iloc[:,11].astype(int)\n",
    "x.replace(np.inf, np.nan, inplace = True)\n",
    "x.fillna(0,inplace = True)\n",
    "print(x)"
   ]
  },
  {
   "cell_type": "code",
   "execution_count": 14,
   "metadata": {},
   "outputs": [
    {
     "data": {
      "text/plain": [
       "1.4262295081967213"
      ]
     },
     "execution_count": 14,
     "metadata": {},
     "output_type": "execute_result"
    }
   ],
   "source": [
    "#Statistical numeric operations\n",
    "#Finding out the mean of 'Champion' column while assigning the values in it as int.\n",
    "laliga.iloc[:,10].astype(int).mean()"
   ]
  },
  {
   "cell_type": "code",
   "execution_count": 15,
   "metadata": {},
   "outputs": [
    {
     "data": {
      "text/plain": [
       "20.61256830601096"
      ]
     },
     "execution_count": 15,
     "metadata": {},
     "output_type": "execute_result"
    }
   ],
   "source": [
    "#calculating Variance of the column 'Runner-up'\n",
    "laliga.iloc[:,11].astype(int).var()"
   ]
  },
  {
   "cell_type": "code",
   "execution_count": 16,
   "metadata": {},
   "outputs": [],
   "source": [
    "#Note that the values look different from that visible on the dataset as replacing NaN or - with 0,\n",
    "#will effect the overall average(mean) and Variance values considering the 0 as part of data."
   ]
  },
  {
   "cell_type": "markdown",
   "metadata": {},
   "source": [
    "### 2.Print all the teams which have started playing between 1930-1980.(Use “Debut” column)"
   ]
  },
  {
   "cell_type": "code",
   "execution_count": 17,
   "metadata": {},
   "outputs": [],
   "source": [
    "#Using Series.str and slice the first 4 characters(To avoid values with ranges such as 1930-1931 etc.),\n",
    "#Then cast to int and filter with Series.between that gives out boolean indexing:\n",
    "laliga_debut = laliga[laliga['Debut'].astype(str).str[:4].astype(int).between(1930, 1980)]\n",
    "#Storing these filtered values in a new sub-variable called laliga_debut."
   ]
  },
  {
   "cell_type": "code",
   "execution_count": 18,
   "metadata": {},
   "outputs": [
    {
     "data": {
      "text/plain": [
       "Team     37\n",
       "Debut    37\n",
       "dtype: int64"
      ]
     },
     "execution_count": 18,
     "metadata": {},
     "output_type": "execute_result"
    }
   ],
   "source": [
    "#Getting the count of teams that made an debut between 1930 to 1980.\n",
    "laliga_debut[['Team','Debut']].count()"
   ]
  },
  {
   "cell_type": "code",
   "execution_count": 19,
   "metadata": {},
   "outputs": [
    {
     "data": {
      "text/html": [
       "<div>\n",
       "<style scoped>\n",
       "    .dataframe tbody tr th:only-of-type {\n",
       "        vertical-align: middle;\n",
       "    }\n",
       "\n",
       "    .dataframe tbody tr th {\n",
       "        vertical-align: top;\n",
       "    }\n",
       "\n",
       "    .dataframe thead th {\n",
       "        text-align: right;\n",
       "    }\n",
       "</style>\n",
       "<table border=\"1\" class=\"dataframe\">\n",
       "  <thead>\n",
       "    <tr style=\"text-align: right;\">\n",
       "      <th></th>\n",
       "      <th>Team</th>\n",
       "      <th>Debut</th>\n",
       "    </tr>\n",
       "  </thead>\n",
       "  <tbody>\n",
       "    <tr>\n",
       "      <td>3</td>\n",
       "      <td>Valencia</td>\n",
       "      <td>1931-32</td>\n",
       "    </tr>\n",
       "    <tr>\n",
       "      <td>5</td>\n",
       "      <td>Sevilla</td>\n",
       "      <td>1934-35</td>\n",
       "    </tr>\n",
       "    <tr>\n",
       "      <td>8</td>\n",
       "      <td>Zaragoza</td>\n",
       "      <td>1939-40</td>\n",
       "    </tr>\n",
       "    <tr>\n",
       "      <td>9</td>\n",
       "      <td>Real Betis</td>\n",
       "      <td>1932-33</td>\n",
       "    </tr>\n",
       "    <tr>\n",
       "      <td>10</td>\n",
       "      <td>Deportivo La Coruna</td>\n",
       "      <td>1941-42</td>\n",
       "    </tr>\n",
       "    <tr>\n",
       "      <td>11</td>\n",
       "      <td>Celta Vigo</td>\n",
       "      <td>1939-40</td>\n",
       "    </tr>\n",
       "    <tr>\n",
       "      <td>12</td>\n",
       "      <td>Valladolid</td>\n",
       "      <td>1948-49</td>\n",
       "    </tr>\n",
       "    <tr>\n",
       "      <td>14</td>\n",
       "      <td>Sporting Gijon</td>\n",
       "      <td>1944-45</td>\n",
       "    </tr>\n",
       "    <tr>\n",
       "      <td>15</td>\n",
       "      <td>Osasuna</td>\n",
       "      <td>1935-36</td>\n",
       "    </tr>\n",
       "    <tr>\n",
       "      <td>16</td>\n",
       "      <td>Malaga</td>\n",
       "      <td>1949-50</td>\n",
       "    </tr>\n",
       "    <tr>\n",
       "      <td>17</td>\n",
       "      <td>Oviedo</td>\n",
       "      <td>1933-34</td>\n",
       "    </tr>\n",
       "    <tr>\n",
       "      <td>18</td>\n",
       "      <td>Mallorca</td>\n",
       "      <td>1960-61</td>\n",
       "    </tr>\n",
       "    <tr>\n",
       "      <td>19</td>\n",
       "      <td>Las Palmas</td>\n",
       "      <td>1951-52</td>\n",
       "    </tr>\n",
       "    <tr>\n",
       "      <td>21</td>\n",
       "      <td>Granada</td>\n",
       "      <td>1941-42</td>\n",
       "    </tr>\n",
       "    <tr>\n",
       "      <td>22</td>\n",
       "      <td>Rayo Vallecano</td>\n",
       "      <td>1977-78</td>\n",
       "    </tr>\n",
       "    <tr>\n",
       "      <td>23</td>\n",
       "      <td>Elche</td>\n",
       "      <td>1959-60</td>\n",
       "    </tr>\n",
       "    <tr>\n",
       "      <td>25</td>\n",
       "      <td>Hercules</td>\n",
       "      <td>1935-36</td>\n",
       "    </tr>\n",
       "    <tr>\n",
       "      <td>26</td>\n",
       "      <td>Tenerife</td>\n",
       "      <td>1961-62</td>\n",
       "    </tr>\n",
       "    <tr>\n",
       "      <td>27</td>\n",
       "      <td>Murcia</td>\n",
       "      <td>1940-41</td>\n",
       "    </tr>\n",
       "    <tr>\n",
       "      <td>28</td>\n",
       "      <td>Alaves</td>\n",
       "      <td>1930-31</td>\n",
       "    </tr>\n",
       "    <tr>\n",
       "      <td>29</td>\n",
       "      <td>Levante</td>\n",
       "      <td>1963-64</td>\n",
       "    </tr>\n",
       "    <tr>\n",
       "      <td>30</td>\n",
       "      <td>Salamanca</td>\n",
       "      <td>1974-75</td>\n",
       "    </tr>\n",
       "    <tr>\n",
       "      <td>31</td>\n",
       "      <td>Sabadell</td>\n",
       "      <td>1943-44</td>\n",
       "    </tr>\n",
       "    <tr>\n",
       "      <td>32</td>\n",
       "      <td>Cadiz</td>\n",
       "      <td>1977-78</td>\n",
       "    </tr>\n",
       "    <tr>\n",
       "      <td>34</td>\n",
       "      <td>Castellon</td>\n",
       "      <td>1941-42</td>\n",
       "    </tr>\n",
       "    <tr>\n",
       "      <td>37</td>\n",
       "      <td>Cordoba</td>\n",
       "      <td>1962-63</td>\n",
       "    </tr>\n",
       "    <tr>\n",
       "      <td>39</td>\n",
       "      <td>Recreativo</td>\n",
       "      <td>1978-79</td>\n",
       "    </tr>\n",
       "    <tr>\n",
       "      <td>40</td>\n",
       "      <td>Burgos CF</td>\n",
       "      <td>1971-72</td>\n",
       "    </tr>\n",
       "    <tr>\n",
       "      <td>41</td>\n",
       "      <td>Pontevedra</td>\n",
       "      <td>1963-64</td>\n",
       "    </tr>\n",
       "    <tr>\n",
       "      <td>46</td>\n",
       "      <td>Gimnastic</td>\n",
       "      <td>1947-48</td>\n",
       "    </tr>\n",
       "    <tr>\n",
       "      <td>49</td>\n",
       "      <td>Alcoyano</td>\n",
       "      <td>1945-46</td>\n",
       "    </tr>\n",
       "    <tr>\n",
       "      <td>50</td>\n",
       "      <td>Jaen</td>\n",
       "      <td>1953-54</td>\n",
       "    </tr>\n",
       "    <tr>\n",
       "      <td>52</td>\n",
       "      <td>AD Almeria</td>\n",
       "      <td>1979-80</td>\n",
       "    </tr>\n",
       "    <tr>\n",
       "      <td>54</td>\n",
       "      <td>Lleida</td>\n",
       "      <td>1950-51</td>\n",
       "    </tr>\n",
       "    <tr>\n",
       "      <td>57</td>\n",
       "      <td>Condal</td>\n",
       "      <td>1956-57</td>\n",
       "    </tr>\n",
       "    <tr>\n",
       "      <td>58</td>\n",
       "      <td>Atletico Tetuan</td>\n",
       "      <td>1951-52</td>\n",
       "    </tr>\n",
       "    <tr>\n",
       "      <td>59</td>\n",
       "      <td>Cultural Leonesa</td>\n",
       "      <td>1955-56</td>\n",
       "    </tr>\n",
       "  </tbody>\n",
       "</table>\n",
       "</div>"
      ],
      "text/plain": [
       "                   Team    Debut\n",
       "3              Valencia  1931-32\n",
       "5               Sevilla  1934-35\n",
       "8              Zaragoza  1939-40\n",
       "9            Real Betis  1932-33\n",
       "10  Deportivo La Coruna  1941-42\n",
       "11           Celta Vigo  1939-40\n",
       "12           Valladolid  1948-49\n",
       "14       Sporting Gijon  1944-45\n",
       "15              Osasuna  1935-36\n",
       "16               Malaga  1949-50\n",
       "17               Oviedo  1933-34\n",
       "18             Mallorca  1960-61\n",
       "19           Las Palmas  1951-52\n",
       "21              Granada  1941-42\n",
       "22       Rayo Vallecano  1977-78\n",
       "23                Elche  1959-60\n",
       "25             Hercules  1935-36\n",
       "26             Tenerife  1961-62\n",
       "27               Murcia  1940-41\n",
       "28               Alaves  1930-31\n",
       "29              Levante  1963-64\n",
       "30            Salamanca  1974-75\n",
       "31             Sabadell  1943-44\n",
       "32                Cadiz  1977-78\n",
       "34            Castellon  1941-42\n",
       "37              Cordoba  1962-63\n",
       "39           Recreativo  1978-79\n",
       "40            Burgos CF  1971-72\n",
       "41           Pontevedra  1963-64\n",
       "46            Gimnastic  1947-48\n",
       "49             Alcoyano  1945-46\n",
       "50                 Jaen  1953-54\n",
       "52           AD Almeria  1979-80\n",
       "54               Lleida  1950-51\n",
       "57               Condal  1956-57\n",
       "58      Atletico Tetuan  1951-52\n",
       "59     Cultural Leonesa  1955-56"
      ]
     },
     "execution_count": 19,
     "metadata": {},
     "output_type": "execute_result"
    }
   ],
   "source": [
    "#Display team names and their debut years that fall within above timeline(1930-1980).\n",
    "laliga_debut[['Team','Debut']]"
   ]
  },
  {
   "cell_type": "markdown",
   "metadata": {},
   "source": [
    "### 3.Print the list of teams which came Top 5 in terms of points"
   ]
  },
  {
   "cell_type": "code",
   "execution_count": 20,
   "metadata": {},
   "outputs": [],
   "source": [
    "# For using sort_values() function changing the datatype from str to int.\n",
    "laliga['Points'] = laliga['Points'].astype(int)"
   ]
  },
  {
   "cell_type": "code",
   "execution_count": 21,
   "metadata": {},
   "outputs": [
    {
     "data": {
      "text/html": [
       "<div>\n",
       "<style scoped>\n",
       "    .dataframe tbody tr th:only-of-type {\n",
       "        vertical-align: middle;\n",
       "    }\n",
       "\n",
       "    .dataframe tbody tr th {\n",
       "        vertical-align: top;\n",
       "    }\n",
       "\n",
       "    .dataframe thead th {\n",
       "        text-align: right;\n",
       "    }\n",
       "</style>\n",
       "<table border=\"1\" class=\"dataframe\">\n",
       "  <thead>\n",
       "    <tr style=\"text-align: right;\">\n",
       "      <th></th>\n",
       "      <th>Points</th>\n",
       "      <th>Team</th>\n",
       "    </tr>\n",
       "  </thead>\n",
       "  <tbody>\n",
       "    <tr>\n",
       "      <td>0</td>\n",
       "      <td>4385</td>\n",
       "      <td>Real Madrid</td>\n",
       "    </tr>\n",
       "    <tr>\n",
       "      <td>1</td>\n",
       "      <td>4262</td>\n",
       "      <td>Barcelona</td>\n",
       "    </tr>\n",
       "    <tr>\n",
       "      <td>2</td>\n",
       "      <td>3442</td>\n",
       "      <td>Atletico Madrid</td>\n",
       "    </tr>\n",
       "    <tr>\n",
       "      <td>3</td>\n",
       "      <td>3386</td>\n",
       "      <td>Valencia</td>\n",
       "    </tr>\n",
       "    <tr>\n",
       "      <td>4</td>\n",
       "      <td>3368</td>\n",
       "      <td>Athletic Bilbao</td>\n",
       "    </tr>\n",
       "  </tbody>\n",
       "</table>\n",
       "</div>"
      ],
      "text/plain": [
       "   Points             Team\n",
       "0    4385      Real Madrid\n",
       "1    4262        Barcelona\n",
       "2    3442  Atletico Madrid\n",
       "3    3386         Valencia\n",
       "4    3368  Athletic Bilbao"
      ]
     },
     "execution_count": 21,
     "metadata": {},
     "output_type": "execute_result"
    }
   ],
   "source": [
    "# Giving \"ascending = False\" for arranging the dataset in descending order of points.\n",
    "# Using head() function passing 5 as argument to display top 5 records.\n",
    "laliga[['Points','Team']].sort_values(by = 'Points',ascending = False).head(5)"
   ]
  },
  {
   "cell_type": "markdown",
   "metadata": {},
   "source": [
    "### 4. Write a function with name “Goal_diff_count” which should return all the teams with their Goal Differences. Using the same function, find the team which has maximum and minimum goal difference.\n",
    "\n",
    "Goal_diff_count = GoalsFor - GoalsAgainst"
   ]
  },
  {
   "cell_type": "code",
   "execution_count": 22,
   "metadata": {},
   "outputs": [],
   "source": [
    "#Creating a new function with a name 'Goal_diff_count' that takes a given dataframe(df) as input argument:\n",
    "def Goal_diff_count(df):   \n",
    "     df['Goal_diff_count'] = df['GoalsFor'].astype(int)-df['GoalsAgainst'].astype(int)\n",
    "     return df[['Team','Goal_diff_count']].sort_values(by = 'Goal_diff_count',ascending=False)\n",
    "#As the output of above function are the columns named 'Team' and 'Goal_diff_count' sorted in descending order."
   ]
  },
  {
   "cell_type": "code",
   "execution_count": 23,
   "metadata": {},
   "outputs": [
    {
     "data": {
      "text/html": [
       "<div>\n",
       "<style scoped>\n",
       "    .dataframe tbody tr th:only-of-type {\n",
       "        vertical-align: middle;\n",
       "    }\n",
       "\n",
       "    .dataframe tbody tr th {\n",
       "        vertical-align: top;\n",
       "    }\n",
       "\n",
       "    .dataframe thead th {\n",
       "        text-align: right;\n",
       "    }\n",
       "</style>\n",
       "<table border=\"1\" class=\"dataframe\">\n",
       "  <thead>\n",
       "    <tr style=\"text-align: right;\">\n",
       "      <th></th>\n",
       "      <th>Team</th>\n",
       "      <th>Goal_diff_count</th>\n",
       "    </tr>\n",
       "  </thead>\n",
       "  <tbody>\n",
       "    <tr>\n",
       "      <td>0</td>\n",
       "      <td>Real Madrid</td>\n",
       "      <td>2807</td>\n",
       "    </tr>\n",
       "    <tr>\n",
       "      <td>1</td>\n",
       "      <td>Barcelona</td>\n",
       "      <td>2786</td>\n",
       "    </tr>\n",
       "    <tr>\n",
       "      <td>2</td>\n",
       "      <td>Atletico Madrid</td>\n",
       "      <td>1225</td>\n",
       "    </tr>\n",
       "    <tr>\n",
       "      <td>4</td>\n",
       "      <td>Athletic Bilbao</td>\n",
       "      <td>931</td>\n",
       "    </tr>\n",
       "    <tr>\n",
       "      <td>3</td>\n",
       "      <td>Valencia</td>\n",
       "      <td>929</td>\n",
       "    </tr>\n",
       "    <tr>\n",
       "      <td>...</td>\n",
       "      <td>...</td>\n",
       "      <td>...</td>\n",
       "    </tr>\n",
       "    <tr>\n",
       "      <td>27</td>\n",
       "      <td>Murcia</td>\n",
       "      <td>-385</td>\n",
       "    </tr>\n",
       "    <tr>\n",
       "      <td>19</td>\n",
       "      <td>Las Palmas</td>\n",
       "      <td>-399</td>\n",
       "    </tr>\n",
       "    <tr>\n",
       "      <td>14</td>\n",
       "      <td>Sporting Gijon</td>\n",
       "      <td>-399</td>\n",
       "    </tr>\n",
       "    <tr>\n",
       "      <td>12</td>\n",
       "      <td>Valladolid</td>\n",
       "      <td>-413</td>\n",
       "    </tr>\n",
       "    <tr>\n",
       "      <td>13</td>\n",
       "      <td>Racing Santander</td>\n",
       "      <td>-525</td>\n",
       "    </tr>\n",
       "  </tbody>\n",
       "</table>\n",
       "<p>61 rows × 2 columns</p>\n",
       "</div>"
      ],
      "text/plain": [
       "                Team  Goal_diff_count\n",
       "0        Real Madrid             2807\n",
       "1          Barcelona             2786\n",
       "2    Atletico Madrid             1225\n",
       "4    Athletic Bilbao              931\n",
       "3           Valencia              929\n",
       "..               ...              ...\n",
       "27            Murcia             -385\n",
       "19        Las Palmas             -399\n",
       "14    Sporting Gijon             -399\n",
       "12        Valladolid             -413\n",
       "13  Racing Santander             -525\n",
       "\n",
       "[61 rows x 2 columns]"
      ]
     },
     "execution_count": 23,
     "metadata": {},
     "output_type": "execute_result"
    }
   ],
   "source": [
    "#Running the function with laliga as the argument dataframe:\n",
    "Goal_diff_count(laliga)"
   ]
  },
  {
   "cell_type": "code",
   "execution_count": 24,
   "metadata": {},
   "outputs": [
    {
     "data": {
      "text/html": [
       "<div>\n",
       "<style scoped>\n",
       "    .dataframe tbody tr th:only-of-type {\n",
       "        vertical-align: middle;\n",
       "    }\n",
       "\n",
       "    .dataframe tbody tr th {\n",
       "        vertical-align: top;\n",
       "    }\n",
       "\n",
       "    .dataframe thead th {\n",
       "        text-align: right;\n",
       "    }\n",
       "</style>\n",
       "<table border=\"1\" class=\"dataframe\">\n",
       "  <thead>\n",
       "    <tr style=\"text-align: right;\">\n",
       "      <th></th>\n",
       "      <th>Team</th>\n",
       "      <th>Goal_diff_count</th>\n",
       "    </tr>\n",
       "  </thead>\n",
       "  <tbody>\n",
       "    <tr>\n",
       "      <td>0</td>\n",
       "      <td>Real Madrid</td>\n",
       "      <td>2807</td>\n",
       "    </tr>\n",
       "  </tbody>\n",
       "</table>\n",
       "</div>"
      ],
      "text/plain": [
       "          Team  Goal_diff_count\n",
       "0  Real Madrid             2807"
      ]
     },
     "execution_count": 24,
     "metadata": {},
     "output_type": "execute_result"
    }
   ],
   "source": [
    "#To get the team with maximum value using the function:\n",
    "Goal_diff_count(laliga).head(1)"
   ]
  },
  {
   "cell_type": "code",
   "execution_count": 25,
   "metadata": {},
   "outputs": [
    {
     "data": {
      "text/html": [
       "<div>\n",
       "<style scoped>\n",
       "    .dataframe tbody tr th:only-of-type {\n",
       "        vertical-align: middle;\n",
       "    }\n",
       "\n",
       "    .dataframe tbody tr th {\n",
       "        vertical-align: top;\n",
       "    }\n",
       "\n",
       "    .dataframe thead th {\n",
       "        text-align: right;\n",
       "    }\n",
       "</style>\n",
       "<table border=\"1\" class=\"dataframe\">\n",
       "  <thead>\n",
       "    <tr style=\"text-align: right;\">\n",
       "      <th></th>\n",
       "      <th>Team</th>\n",
       "      <th>Goal_diff_count</th>\n",
       "    </tr>\n",
       "  </thead>\n",
       "  <tbody>\n",
       "    <tr>\n",
       "      <td>13</td>\n",
       "      <td>Racing Santander</td>\n",
       "      <td>-525</td>\n",
       "    </tr>\n",
       "  </tbody>\n",
       "</table>\n",
       "</div>"
      ],
      "text/plain": [
       "                Team  Goal_diff_count\n",
       "13  Racing Santander             -525"
      ]
     },
     "execution_count": 25,
     "metadata": {},
     "output_type": "execute_result"
    }
   ],
   "source": [
    "#To get the team name with minimum value using above created function:\n",
    "Goal_diff_count(laliga).tail(1)"
   ]
  },
  {
   "cell_type": "markdown",
   "metadata": {},
   "source": [
    "### 5.Create a new column with the name “Winning Percent” and append it to the data set\n",
    "\n",
    "Percentage of Winning = (GamesWon / GamesPlayed)*100\n",
    "If there are any numerical error, replace it with 0%\n",
    "Print the top 5 teams which have the highest Winning percentage"
   ]
  },
  {
   "cell_type": "code",
   "execution_count": 26,
   "metadata": {},
   "outputs": [],
   "source": [
    "#Creating a new column with name 'winning percent' that is derived from values of other 2 columns.\n",
    "#Also using astype(int) to convert the values of 'GamesWon' and 'GamesPlayed' to int(were object datatype by default).\n",
    "laliga['Winning Percent']=(laliga['GamesWon'].astype(int)/laliga['GamesPlayed'].astype(int))*100"
   ]
  },
  {
   "cell_type": "code",
   "execution_count": 27,
   "metadata": {},
   "outputs": [],
   "source": [
    "#We are rounding off the percentages to 2 decimal places for better visualization.\n",
    "laliga['Winning Percent']=laliga['Winning Percent'].round(decimals=2)"
   ]
  },
  {
   "cell_type": "code",
   "execution_count": 28,
   "metadata": {},
   "outputs": [
    {
     "name": "stdout",
     "output_type": "stream",
     "text": [
      "    Pos              Team  Seasons  Points GamesPlayed GamesWon GamesDrawn  \\\n",
      "0     1       Real Madrid       86    4385        2762     1647        552   \n",
      "1     2         Barcelona       86    4262        2762     1581        573   \n",
      "2     3   Atletico Madrid       80    3442        2614     1241        598   \n",
      "3     4          Valencia       82    3386        2664     1187        616   \n",
      "4     5   Athletic Bilbao       86    3368        2762     1209        633   \n",
      "..  ...               ...      ...     ...         ...      ...        ...   \n",
      "56   57             Xerez        1      34          38        8         10   \n",
      "57   58            Condal        1      22          30        7          8   \n",
      "58   59   Atletico Tetuan        1      19          30        7          5   \n",
      "59   60  Cultural Leonesa        1      14          30        5          4   \n",
      "60   61            Girona        1       0           0        0          0   \n",
      "\n",
      "   GamesLost GoalsFor GoalsAgainst  ... Third Fourth Fifth Sixth   T    Debut  \\\n",
      "0        563     5947         3140  ...     8      8     3     4  79     1929   \n",
      "1        608     5900         3114  ...    12     12     4     6  83     1929   \n",
      "2        775     4534         3309  ...    16      9     7     6  56     1929   \n",
      "3        861     4398         3469  ...    10     11    10     7  50  1931-32   \n",
      "4        920     4631         3700  ...    10      5     8    10  49     1929   \n",
      "..       ...      ...          ...  ...   ...    ...   ...   ...  ..      ...   \n",
      "56        20       38           66  ...     0      0     0     0   0  2009-10   \n",
      "57        15       37           57  ...     0      0     0     0   0  1956-57   \n",
      "58        18       51           85  ...     0      0     0     0   0  1951-52   \n",
      "59        21       34           65  ...     0      0     0     0   0  1955-56   \n",
      "60         0        0            0  ...     0      0     0     0   0  2017-18   \n",
      "\n",
      "   Since/LastApp BestPosition Goal_diff_count  Winning Percent  \n",
      "0           1929            1            2807            59.63  \n",
      "1           1929            1            2786            57.24  \n",
      "2        2002-03            1            1225            47.48  \n",
      "3        1987-88            1             929            44.56  \n",
      "4           1929            1             931            43.77  \n",
      "..           ...          ...             ...              ...  \n",
      "56       2009-10           20             -28            21.05  \n",
      "57       1956-57           16             -20            23.33  \n",
      "58       1951-52           16             -34            23.33  \n",
      "59       1955-56           15             -31            16.67  \n",
      "60       2017-18            9               0              NaN  \n",
      "\n",
      "[61 rows x 22 columns]\n"
     ]
    }
   ],
   "source": [
    "#Veryfying the addition of new column to the dataset:\n",
    "print(laliga)"
   ]
  },
  {
   "cell_type": "code",
   "execution_count": 29,
   "metadata": {},
   "outputs": [],
   "source": [
    "#Since last value of the column name 'Winning Percent' is null(NaN) we have to covert it to 0.\n",
    "laliga['Winning Percent'].fillna(0,inplace = True)\n",
    "#We also used inplace True to keep the changes to actual dataset."
   ]
  },
  {
   "cell_type": "code",
   "execution_count": 30,
   "metadata": {},
   "outputs": [
    {
     "name": "stdout",
     "output_type": "stream",
     "text": [
      "0     59.63\n",
      "1     57.24\n",
      "2     47.48\n",
      "3     44.56\n",
      "4     43.77\n",
      "      ...  \n",
      "56    21.05\n",
      "57    23.33\n",
      "58    23.33\n",
      "59    16.67\n",
      "60     0.00\n",
      "Name: Winning Percent, Length: 61, dtype: float64\n"
     ]
    }
   ],
   "source": [
    "#Verifying the replacement of NaN values.\n",
    "print(laliga['Winning Percent'])"
   ]
  },
  {
   "cell_type": "code",
   "execution_count": 31,
   "metadata": {},
   "outputs": [
    {
     "data": {
      "text/html": [
       "<div>\n",
       "<style scoped>\n",
       "    .dataframe tbody tr th:only-of-type {\n",
       "        vertical-align: middle;\n",
       "    }\n",
       "\n",
       "    .dataframe tbody tr th {\n",
       "        vertical-align: top;\n",
       "    }\n",
       "\n",
       "    .dataframe thead th {\n",
       "        text-align: right;\n",
       "    }\n",
       "</style>\n",
       "<table border=\"1\" class=\"dataframe\">\n",
       "  <thead>\n",
       "    <tr style=\"text-align: right;\">\n",
       "      <th></th>\n",
       "      <th>Team</th>\n",
       "      <th>Winning Percent</th>\n",
       "    </tr>\n",
       "  </thead>\n",
       "  <tbody>\n",
       "    <tr>\n",
       "      <td>0</td>\n",
       "      <td>Real Madrid</td>\n",
       "      <td>59.63</td>\n",
       "    </tr>\n",
       "    <tr>\n",
       "      <td>1</td>\n",
       "      <td>Barcelona</td>\n",
       "      <td>57.24</td>\n",
       "    </tr>\n",
       "    <tr>\n",
       "      <td>2</td>\n",
       "      <td>Atletico Madrid</td>\n",
       "      <td>47.48</td>\n",
       "    </tr>\n",
       "    <tr>\n",
       "      <td>3</td>\n",
       "      <td>Valencia</td>\n",
       "      <td>44.56</td>\n",
       "    </tr>\n",
       "    <tr>\n",
       "      <td>4</td>\n",
       "      <td>Athletic Bilbao</td>\n",
       "      <td>43.77</td>\n",
       "    </tr>\n",
       "  </tbody>\n",
       "</table>\n",
       "</div>"
      ],
      "text/plain": [
       "              Team  Winning Percent\n",
       "0      Real Madrid            59.63\n",
       "1        Barcelona            57.24\n",
       "2  Atletico Madrid            47.48\n",
       "3         Valencia            44.56\n",
       "4  Athletic Bilbao            43.77"
      ]
     },
     "execution_count": 31,
     "metadata": {},
     "output_type": "execute_result"
    }
   ],
   "source": [
    "#Getting the top 5 teams with highest winning percentage.\n",
    "laliga[['Team','Winning Percent']].head(5)"
   ]
  },
  {
   "cell_type": "markdown",
   "metadata": {},
   "source": [
    "### 6.Group teams based on their “Best position” and print the sum of their points for all positions\n",
    "ex. Best Position  Points                                                                                                                        1  25000                                                                                                                       2  7000                                                    "
   ]
  },
  {
   "cell_type": "code",
   "execution_count": 32,
   "metadata": {},
   "outputs": [
    {
     "name": "stdout",
     "output_type": "stream",
     "text": [
      "<pandas.core.groupby.generic.DataFrameGroupBy object at 0x000002A909011188>\n"
     ]
    }
   ],
   "source": [
    "# Creation of a new variable named 'Group_Bestposition' and storing the 3 columns-'Team','Points','BestPosition'\n",
    "#which are grouped by Bestposition column values\n",
    "Group_Bestposition = laliga[['Team','Points','BestPosition']].groupby('BestPosition')\n",
    "print(Group_Bestposition)"
   ]
  },
  {
   "cell_type": "code",
   "execution_count": 33,
   "metadata": {},
   "outputs": [
    {
     "data": {
      "text/html": [
       "<div>\n",
       "<style scoped>\n",
       "    .dataframe tbody tr th:only-of-type {\n",
       "        vertical-align: middle;\n",
       "    }\n",
       "\n",
       "    .dataframe tbody tr th {\n",
       "        vertical-align: top;\n",
       "    }\n",
       "\n",
       "    .dataframe thead th {\n",
       "        text-align: right;\n",
       "    }\n",
       "</style>\n",
       "<table border=\"1\" class=\"dataframe\">\n",
       "  <thead>\n",
       "    <tr style=\"text-align: right;\">\n",
       "      <th></th>\n",
       "      <th>Points</th>\n",
       "    </tr>\n",
       "    <tr>\n",
       "      <th>BestPosition</th>\n",
       "      <th></th>\n",
       "    </tr>\n",
       "  </thead>\n",
       "  <tbody>\n",
       "    <tr>\n",
       "      <td>1</td>\n",
       "      <td>27933</td>\n",
       "    </tr>\n",
       "    <tr>\n",
       "      <td>2</td>\n",
       "      <td>6904</td>\n",
       "    </tr>\n",
       "    <tr>\n",
       "      <td>3</td>\n",
       "      <td>5221</td>\n",
       "    </tr>\n",
       "    <tr>\n",
       "      <td>4</td>\n",
       "      <td>6563</td>\n",
       "    </tr>\n",
       "    <tr>\n",
       "      <td>5</td>\n",
       "      <td>1884</td>\n",
       "    </tr>\n",
       "    <tr>\n",
       "      <td>6</td>\n",
       "      <td>2113</td>\n",
       "    </tr>\n",
       "    <tr>\n",
       "      <td>7</td>\n",
       "      <td>1186</td>\n",
       "    </tr>\n",
       "    <tr>\n",
       "      <td>8</td>\n",
       "      <td>1134</td>\n",
       "    </tr>\n",
       "    <tr>\n",
       "      <td>9</td>\n",
       "      <td>96</td>\n",
       "    </tr>\n",
       "    <tr>\n",
       "      <td>10</td>\n",
       "      <td>450</td>\n",
       "    </tr>\n",
       "    <tr>\n",
       "      <td>11</td>\n",
       "      <td>445</td>\n",
       "    </tr>\n",
       "    <tr>\n",
       "      <td>12</td>\n",
       "      <td>511</td>\n",
       "    </tr>\n",
       "    <tr>\n",
       "      <td>14</td>\n",
       "      <td>71</td>\n",
       "    </tr>\n",
       "    <tr>\n",
       "      <td>15</td>\n",
       "      <td>14</td>\n",
       "    </tr>\n",
       "    <tr>\n",
       "      <td>16</td>\n",
       "      <td>81</td>\n",
       "    </tr>\n",
       "    <tr>\n",
       "      <td>17</td>\n",
       "      <td>266</td>\n",
       "    </tr>\n",
       "    <tr>\n",
       "      <td>19</td>\n",
       "      <td>81</td>\n",
       "    </tr>\n",
       "    <tr>\n",
       "      <td>20</td>\n",
       "      <td>34</td>\n",
       "    </tr>\n",
       "  </tbody>\n",
       "</table>\n",
       "</div>"
      ],
      "text/plain": [
       "              Points\n",
       "BestPosition        \n",
       "1              27933\n",
       "2               6904\n",
       "3               5221\n",
       "4               6563\n",
       "5               1884\n",
       "6               2113\n",
       "7               1186\n",
       "8               1134\n",
       "9                 96\n",
       "10               450\n",
       "11               445\n",
       "12               511\n",
       "14                71\n",
       "15                14\n",
       "16                81\n",
       "17               266\n",
       "19                81\n",
       "20                34"
      ]
     },
     "execution_count": 33,
     "metadata": {},
     "output_type": "execute_result"
    }
   ],
   "source": [
    "#Compute sum of group values using sum function:\n",
    "Group_Bestposition.sum()"
   ]
  },
  {
   "cell_type": "code",
   "execution_count": 34,
   "metadata": {},
   "outputs": [],
   "source": [
    "#Hence a team scores most points when it ends up at best position of #1\n",
    "#However,this may not always be correct as team ending up 4th position,\n",
    "#might have more points sccored compared to team stading at #3"
   ]
  }
 ],
 "metadata": {
  "kernelspec": {
   "display_name": "Python 3",
   "language": "python",
   "name": "python3"
  },
  "language_info": {
   "codemirror_mode": {
    "name": "ipython",
    "version": 3
   },
   "file_extension": ".py",
   "mimetype": "text/x-python",
   "name": "python",
   "nbconvert_exporter": "python",
   "pygments_lexer": "ipython3",
   "version": "3.7.4"
  }
 },
 "nbformat": 4,
 "nbformat_minor": 2
}
